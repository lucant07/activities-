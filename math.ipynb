{
  "nbformat": 4,
  "nbformat_minor": 0,
  "metadata": {
    "colab": {
      "provenance": [],
      "authorship_tag": "ABX9TyOHK7OYw0Dn+Di/IDenaFqH",
      "include_colab_link": true
    },
    "kernelspec": {
      "name": "python3",
      "display_name": "Python 3"
    },
    "language_info": {
      "name": "python"
    }
  },
  "cells": [
    {
      "cell_type": "markdown",
      "metadata": {
        "id": "view-in-github",
        "colab_type": "text"
      },
      "source": [
        "<a href=\"https://colab.research.google.com/github/lucant07/activities-/blob/main/math.ipynb\" target=\"_parent\"><img src=\"https://colab.research.google.com/assets/colab-badge.svg\" alt=\"Open In Colab\"/></a>"
      ]
    },
    {
      "cell_type": "code",
      "execution_count": null,
      "metadata": {
        "id": "GS5xFl0Tm6zV"
      },
      "outputs": [],
      "source": [
        "# Python Final Project - Math Game \n",
        "# Luc Antonio"
      ]
    },
    {
      "cell_type": "code",
      "source": [
        "import random\n",
        "import operator\n",
        "\n",
        "def math_problem(): #defining math_problem  \n",
        "  operators = {\n",
        "      '+': operator.add,\n",
        "      '-': operator.sub,\n",
        "      '*': operator.mul,\n",
        "      '/': operator.truediv,\n",
        "  }\n",
        "  \n",
        "  num_1 = random.randint(1,10)\n",
        "  num_2 = random.randint(1,10)\n",
        "  \n",
        "  operation = random.choice(list(operators.keys()))\n",
        "  answer = operators.get(operation)(num_1, num_2)\n",
        "  print(f'What is {num_1} {operation} {num_2}?')\n",
        "  \n",
        "  def ask_question(): #defining ask_question\n",
        "    answer = math_problem()\n",
        "    guess = float(input('Enter your answer: '))\n",
        "    return guess == answer\n",
        "\n",
        "  def game(): #defining game\n",
        "    print(\"How well do you know math?\\n\")\n",
        "    score = 0\n",
        "    while True:\n",
        "      if ask_question() == True:\n",
        "        score += 100\n",
        "        print('Correct !')\n",
        "      else:\n",
        "        print('Incorrect')\n",
        "    print(f'======== Game Over ========\\nYour score is {score}\\nKeep going')\n",
        "  \n",
        "  game()\n",
        "          "
      ],
      "metadata": {
        "id": "DuazxKwNnAc9"
      },
      "execution_count": 2,
      "outputs": []
    }
  ]
}